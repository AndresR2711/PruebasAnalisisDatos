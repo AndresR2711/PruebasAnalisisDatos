{
  "nbformat": 4,
  "nbformat_minor": 0,
  "metadata": {
    "colab": {
      "provenance": [],
      "include_colab_link": true
    },
    "kernelspec": {
      "name": "python3",
      "display_name": "Python 3"
    },
    "language_info": {
      "name": "python"
    }
  },
  "cells": [
    {
      "cell_type": "markdown",
      "metadata": {
        "id": "view-in-github",
        "colab_type": "text"
      },
      "source": [
        "<a href=\"https://colab.research.google.com/github/AndresR2711/PruebasAnalisisDatos/blob/main/lab2_andresrojas.ipynb\" target=\"_parent\"><img src=\"https://colab.research.google.com/assets/colab-badge.svg\" alt=\"Open In Colab\"/></a>"
      ]
    },
    {
      "cell_type": "code",
      "execution_count": null,
      "metadata": {
        "id": "d2Mm6Rxq3Qre",
        "colab": {
          "base_uri": "https://localhost:8080/"
        },
        "outputId": "20b66eda-d9c0-4ab2-b29c-d3656ffcee03"
      },
      "outputs": [
        {
          "output_type": "stream",
          "name": "stdout",
          "text": [
            "-------------------------------------------------\n",
            "Ejemplo: IMRPIMIR EL MENOR DE DOS NUMEROS.\n",
            "-------------------------------------------------\n",
            "Ingrese 2 numeros:\n",
            "Primer Numero: 1\n",
            "Segundo Numero: 2\n",
            "\n",
            "Salida\n",
            "-------------------------------------------------\n",
            "El menor es: 1\n"
          ]
        }
      ],
      "source": [
        "#Decoracion: Nombre del Alrgoritmo\n",
        "print(\"-------------------------------------------------\")\n",
        "print(\"Ejemplo: IMRPIMIR EL MENOR DE DOS NUMEROS.\")\n",
        "print(\"-------------------------------------------------\")\n",
        "#Entradas\n",
        "print(\"Ingrese 2 numeros:\")\n",
        "x=int(input(\"Primer Numero: \"))\n",
        "y=int(input(\"Segundo Numero: \"))\n",
        "print(\"\\nSalida\")\n",
        "print(\"-------------------------------------------------\")\n",
        "#NOTA: No olvidarse de las indentación\n",
        "if x>y:\n",
        "  #Esto esta dentro del if\n",
        "  print(\"El menor es:\",y)\n",
        "else: \n",
        "  #Esto esta dentro del else\n",
        "  print(\"El menor es:\",x)"
      ]
    },
    {
      "cell_type": "code",
      "source": [
        "switcher={1:\"Enero\",2: \"Febrero\", 3:\"Marzo\", 4: \"Abril\", 5:\"Mayo\", 6:\n",
        "\"Junio\", 7:\"Julio\", 8:\"Agosto\",9: \"Septiembre\", 10: \"Octubre\",11:\n",
        "\"Noviembre\", 12:\"Diciembre\"}\n",
        "\n",
        "\n",
        "argument=int(input(\"Ingrese un número:\"))\n",
        "nameMes=switcher.get(argument,\"Mes inválido\")\n",
        "print(nameMes)"
      ],
      "metadata": {
        "colab": {
          "base_uri": "https://localhost:8080/"
        },
        "id": "b9cCHoFa5Vnx",
        "outputId": "07c5611f-0a1b-4fc4-ead2-5497d554c98f"
      },
      "execution_count": null,
      "outputs": [
        {
          "output_type": "stream",
          "name": "stdout",
          "text": [
            "Ingrese un número:7\n",
            "Julio\n"
          ]
        }
      ]
    }
  ]
}