{
  "nbformat": 4,
  "nbformat_minor": 0,
  "metadata": {
    "colab": {
      "provenance": [],
      "authorship_tag": "ABX9TyMk2em7FW7jKWP1VzFlayQQ",
      "include_colab_link": true
    },
    "kernelspec": {
      "name": "python3",
      "display_name": "Python 3"
    },
    "language_info": {
      "name": "python"
    }
  },
  "cells": [
    {
      "cell_type": "markdown",
      "metadata": {
        "id": "view-in-github",
        "colab_type": "text"
      },
      "source": [
        "<a href=\"https://colab.research.google.com/github/AndresR2711/PruebasAnalisisDatos/blob/main/Untitled1.ipynb\" target=\"_parent\"><img src=\"https://colab.research.google.com/assets/colab-badge.svg\" alt=\"Open In Colab\"/></a>"
      ]
    },
    {
      "cell_type": "code",
      "source": [
        "import pandas as pd\n",
        "data = {'Country': ['Costa Rica', 'India', 'Brazil'],'Capital': ['San José','New Delhi','Brasilia'],'Population':[4500000, 1303171035,207847528]}\n",
        "df = pd.DataFrame(data,columns=['Country', 'Capital', 'Population'])\n",
        "print(df)"
      ],
      "metadata": {
        "colab": {
          "base_uri": "https://localhost:8080/"
        },
        "id": "EBvEN3TcXAKW",
        "outputId": "878e382b-67f9-4cb4-e6c4-0ed05c24df05"
      },
      "execution_count": null,
      "outputs": [
        {
          "output_type": "stream",
          "name": "stdout",
          "text": [
            "      Country    Capital  Population\n",
            "0  Costa Rica   San José     4500000\n",
            "1       India  New Delhi  1303171035\n",
            "2      Brazil   Brasilia   207847528\n"
          ]
        }
      ]
    },
    {
      "cell_type": "code",
      "source": [
        "print(\"Promedio de los elementos del vector\")\n",
        "Suma=0\n",
        "Media=0\n",
        "Temp=[]\n",
        "print(\"Ingrese cantidad de Temperaturas: \")\n",
        "N=int(input())\n",
        "\n",
        "for i in range(N):\n",
        "  temperatura=float(input(\"Ingrese la temperatura: \"))\n",
        "  Temp.append(temperatura)\n",
        "  Suma=Suma+Temp[i]\n",
        "Media=Suma/N\n",
        "print(Media)\n"
      ],
      "metadata": {
        "colab": {
          "base_uri": "https://localhost:8080/"
        },
        "id": "UNuuIsFyZfPf",
        "outputId": "30c8c9f7-f75a-4977-eb51-32e323839a60"
      },
      "execution_count": null,
      "outputs": [
        {
          "output_type": "stream",
          "name": "stdout",
          "text": [
            "Promedio de los elementos del vector\n",
            "Ingrese cantidad de Temperaturas: \n",
            "5\n",
            "Ingrese la temperatura: 32\n",
            "Ingrese la temperatura: 45\n",
            "Ingrese la temperatura: 38\n",
            "Ingrese la temperatura: 2\n",
            "Ingrese la temperatura: 12\n",
            "25.8\n"
          ]
        }
      ]
    },
    {
      "cell_type": "code",
      "source": [
        "import pandas as pd\n",
        "mascota = pd.DataFrame(\n",
        "data={\n",
        "    'name':['Minino','Milo','Snoppy','Blanco','Littlepony'],\n",
        "    'type':['gato','perro','perro', 'perro','caballo']\n",
        "  },\n",
        "index=[71,42,11, 98,42]\n",
        ")\n",
        "\n",
        "visitas=pd.DataFrame(\n",
        "data={\n",
        "'pet_id': [42, 31, 71, 42, 98, 42],\n",
        "'fecha': ['2019-03-15', '2019-03-15', '2019 -04-05' , \"2019-04-06\", '2019-04-12','2019-04-12'],\n",
        "'costo': [2000, 5000, 1000, 5000, 6000, 10000]})\n",
        "\n",
        "mascota.index.rename('pet_id',inplace=True)\n",
        "visitas.index.rename('visit_id',inplace=True)\n",
        "\n",
        "print(mascota.query('pet_id==71'))\n",
        "\n",
        "print(visitas['costo'].sum())\n",
        "print(visitas['costo'].min())\n",
        "print(visitas['costo'].max())\n",
        "\n",
        "print(visitas)\n",
        "\n",
        "\n",
        "print(visitas.sort_values(by=\"costo\",ascending=False))\n",
        "\n",
        "tienda=pd.merge(mascota,visitas,how=\"cross\")\n",
        "print(tienda)"
      ],
      "metadata": {
        "id": "tyqBSbLicYuE",
        "colab": {
          "base_uri": "https://localhost:8080/"
        },
        "outputId": "20e42fbc-02d6-43e9-933d-870ae6a27330"
      },
      "execution_count": null,
      "outputs": [
        {
          "output_type": "stream",
          "name": "stdout",
          "text": [
            "          name  type\n",
            "pet_id              \n",
            "71      Minino  gato\n",
            "29000\n",
            "1000\n",
            "10000\n",
            "          pet_id        fecha  costo\n",
            "visit_id                            \n",
            "0             42   2019-03-15   2000\n",
            "1             31   2019-03-15   5000\n",
            "2             71  2019 -04-05   1000\n",
            "3             42   2019-04-06   5000\n",
            "4             98   2019-04-12   6000\n",
            "5             42   2019-04-12  10000\n",
            "          pet_id        fecha  costo\n",
            "visit_id                            \n",
            "5             42   2019-04-12  10000\n",
            "4             98   2019-04-12   6000\n",
            "1             31   2019-03-15   5000\n",
            "3             42   2019-04-06   5000\n",
            "0             42   2019-03-15   2000\n",
            "2             71  2019 -04-05   1000\n",
            "          name     type  pet_id        fecha  costo\n",
            "0       Minino     gato      42   2019-03-15   2000\n",
            "1       Minino     gato      31   2019-03-15   5000\n",
            "2       Minino     gato      71  2019 -04-05   1000\n",
            "3       Minino     gato      42   2019-04-06   5000\n",
            "4       Minino     gato      98   2019-04-12   6000\n",
            "5       Minino     gato      42   2019-04-12  10000\n",
            "6         Milo    perro      42   2019-03-15   2000\n",
            "7         Milo    perro      31   2019-03-15   5000\n",
            "8         Milo    perro      71  2019 -04-05   1000\n",
            "9         Milo    perro      42   2019-04-06   5000\n",
            "10        Milo    perro      98   2019-04-12   6000\n",
            "11        Milo    perro      42   2019-04-12  10000\n",
            "12      Snoppy    perro      42   2019-03-15   2000\n",
            "13      Snoppy    perro      31   2019-03-15   5000\n",
            "14      Snoppy    perro      71  2019 -04-05   1000\n",
            "15      Snoppy    perro      42   2019-04-06   5000\n",
            "16      Snoppy    perro      98   2019-04-12   6000\n",
            "17      Snoppy    perro      42   2019-04-12  10000\n",
            "18      Blanco    perro      42   2019-03-15   2000\n",
            "19      Blanco    perro      31   2019-03-15   5000\n",
            "20      Blanco    perro      71  2019 -04-05   1000\n",
            "21      Blanco    perro      42   2019-04-06   5000\n",
            "22      Blanco    perro      98   2019-04-12   6000\n",
            "23      Blanco    perro      42   2019-04-12  10000\n",
            "24  Littlepony  caballo      42   2019-03-15   2000\n",
            "25  Littlepony  caballo      31   2019-03-15   5000\n",
            "26  Littlepony  caballo      71  2019 -04-05   1000\n",
            "27  Littlepony  caballo      42   2019-04-06   5000\n",
            "28  Littlepony  caballo      98   2019-04-12   6000\n",
            "29  Littlepony  caballo      42   2019-04-12  10000\n"
          ]
        }
      ]
    },
    {
      "cell_type": "code",
      "execution_count": null,
      "metadata": {
        "id": "ns7AtbEbVjqe"
      },
      "outputs": [],
      "source": [
        "import pandas as pd\n",
        "students = [('Ana', 23,'San Jose','A'),\n",
        "  ('Esteban',22, 'Heredia','B'),\n",
        "  ('Juan',22,'Cartago','A'),\n",
        "  ('Karla',22, 'Limón','A'),\n",
        "  ('Ernesto',21, 'Heredia','B')]\n",
        "  "
      ]
    },
    {
      "cell_type": "code",
      "source": [
        "df = pd.DataFrame (students, columns =['Nombre', 'Edad', 'Ciudad', 'Seccion'\n",
        "])"
      ],
      "metadata": {
        "id": "gYuNwFdzWaSt"
      },
      "execution_count": null,
      "outputs": []
    },
    {
      "cell_type": "code",
      "source": [
        "#2. Imprima la información almacenada en df.\n",
        "print(df)"
      ],
      "metadata": {
        "colab": {
          "base_uri": "https://localhost:8080/"
        },
        "id": "wifdtJ7IWd2L",
        "outputId": "97d988f1-757a-417d-c667-462e41c38b0a"
      },
      "execution_count": null,
      "outputs": [
        {
          "output_type": "stream",
          "name": "stdout",
          "text": [
            "    Nombre  Edad    Ciudad Seccion\n",
            "0      Ana    23  San Jose       A\n",
            "1  Esteban    22   Heredia       B\n",
            "2     Juan    22   Cartago       A\n",
            "3    Karla    22     Limón       A\n",
            "4  Ernesto    21   Heredia       B\n"
          ]
        }
      ]
    },
    {
      "cell_type": "code",
      "source": [
        "#3. Definición de una función para retornar todo el conjunto de datos acerca de la información a buscar, por ejemplo si queremos retornar toda la información acerca de la edad de una persona.\n",
        "def buscaX(dataframe, columna, x):\n",
        "    return dataframe.loc[dataframe[columna] == x]\n",
        "buscaX(df, 'Nombre', \"Esteban\")\n",
        "\n",
        "#buscaX(df, 'Edad', 22)"
      ],
      "metadata": {
        "colab": {
          "base_uri": "https://localhost:8080/",
          "height": 81
        },
        "id": "jD84vQxLYEd2",
        "outputId": "9b38bfde-a489-4cd6-a80e-27392cb8ad58"
      },
      "execution_count": null,
      "outputs": [
        {
          "output_type": "execute_result",
          "data": {
            "text/plain": [
              "    Nombre  Edad   Ciudad Seccion\n",
              "1  Esteban    22  Heredia       B"
            ],
            "text/html": [
              "\n",
              "  <div id=\"df-f515f212-c756-4a8e-984a-1d96ea37ac9d\">\n",
              "    <div class=\"colab-df-container\">\n",
              "      <div>\n",
              "<style scoped>\n",
              "    .dataframe tbody tr th:only-of-type {\n",
              "        vertical-align: middle;\n",
              "    }\n",
              "\n",
              "    .dataframe tbody tr th {\n",
              "        vertical-align: top;\n",
              "    }\n",
              "\n",
              "    .dataframe thead th {\n",
              "        text-align: right;\n",
              "    }\n",
              "</style>\n",
              "<table border=\"1\" class=\"dataframe\">\n",
              "  <thead>\n",
              "    <tr style=\"text-align: right;\">\n",
              "      <th></th>\n",
              "      <th>Nombre</th>\n",
              "      <th>Edad</th>\n",
              "      <th>Ciudad</th>\n",
              "      <th>Seccion</th>\n",
              "    </tr>\n",
              "  </thead>\n",
              "  <tbody>\n",
              "    <tr>\n",
              "      <th>1</th>\n",
              "      <td>Esteban</td>\n",
              "      <td>22</td>\n",
              "      <td>Heredia</td>\n",
              "      <td>B</td>\n",
              "    </tr>\n",
              "  </tbody>\n",
              "</table>\n",
              "</div>\n",
              "      <button class=\"colab-df-convert\" onclick=\"convertToInteractive('df-f515f212-c756-4a8e-984a-1d96ea37ac9d')\"\n",
              "              title=\"Convert this dataframe to an interactive table.\"\n",
              "              style=\"display:none;\">\n",
              "        \n",
              "  <svg xmlns=\"http://www.w3.org/2000/svg\" height=\"24px\"viewBox=\"0 0 24 24\"\n",
              "       width=\"24px\">\n",
              "    <path d=\"M0 0h24v24H0V0z\" fill=\"none\"/>\n",
              "    <path d=\"M18.56 5.44l.94 2.06.94-2.06 2.06-.94-2.06-.94-.94-2.06-.94 2.06-2.06.94zm-11 1L8.5 8.5l.94-2.06 2.06-.94-2.06-.94L8.5 2.5l-.94 2.06-2.06.94zm10 10l.94 2.06.94-2.06 2.06-.94-2.06-.94-.94-2.06-.94 2.06-2.06.94z\"/><path d=\"M17.41 7.96l-1.37-1.37c-.4-.4-.92-.59-1.43-.59-.52 0-1.04.2-1.43.59L10.3 9.45l-7.72 7.72c-.78.78-.78 2.05 0 2.83L4 21.41c.39.39.9.59 1.41.59.51 0 1.02-.2 1.41-.59l7.78-7.78 2.81-2.81c.8-.78.8-2.07 0-2.86zM5.41 20L4 18.59l7.72-7.72 1.47 1.35L5.41 20z\"/>\n",
              "  </svg>\n",
              "      </button>\n",
              "      \n",
              "  <style>\n",
              "    .colab-df-container {\n",
              "      display:flex;\n",
              "      flex-wrap:wrap;\n",
              "      gap: 12px;\n",
              "    }\n",
              "\n",
              "    .colab-df-convert {\n",
              "      background-color: #E8F0FE;\n",
              "      border: none;\n",
              "      border-radius: 50%;\n",
              "      cursor: pointer;\n",
              "      display: none;\n",
              "      fill: #1967D2;\n",
              "      height: 32px;\n",
              "      padding: 0 0 0 0;\n",
              "      width: 32px;\n",
              "    }\n",
              "\n",
              "    .colab-df-convert:hover {\n",
              "      background-color: #E2EBFA;\n",
              "      box-shadow: 0px 1px 2px rgba(60, 64, 67, 0.3), 0px 1px 3px 1px rgba(60, 64, 67, 0.15);\n",
              "      fill: #174EA6;\n",
              "    }\n",
              "\n",
              "    [theme=dark] .colab-df-convert {\n",
              "      background-color: #3B4455;\n",
              "      fill: #D2E3FC;\n",
              "    }\n",
              "\n",
              "    [theme=dark] .colab-df-convert:hover {\n",
              "      background-color: #434B5C;\n",
              "      box-shadow: 0px 1px 3px 1px rgba(0, 0, 0, 0.15);\n",
              "      filter: drop-shadow(0px 1px 2px rgba(0, 0, 0, 0.3));\n",
              "      fill: #FFFFFF;\n",
              "    }\n",
              "  </style>\n",
              "\n",
              "      <script>\n",
              "        const buttonEl =\n",
              "          document.querySelector('#df-f515f212-c756-4a8e-984a-1d96ea37ac9d button.colab-df-convert');\n",
              "        buttonEl.style.display =\n",
              "          google.colab.kernel.accessAllowed ? 'block' : 'none';\n",
              "\n",
              "        async function convertToInteractive(key) {\n",
              "          const element = document.querySelector('#df-f515f212-c756-4a8e-984a-1d96ea37ac9d');\n",
              "          const dataTable =\n",
              "            await google.colab.kernel.invokeFunction('convertToInteractive',\n",
              "                                                     [key], {});\n",
              "          if (!dataTable) return;\n",
              "\n",
              "          const docLinkHtml = 'Like what you see? Visit the ' +\n",
              "            '<a target=\"_blank\" href=https://colab.research.google.com/notebooks/data_table.ipynb>data table notebook</a>'\n",
              "            + ' to learn more about interactive tables.';\n",
              "          element.innerHTML = '';\n",
              "          dataTable['output_type'] = 'display_data';\n",
              "          await google.colab.output.renderOutput(dataTable, element);\n",
              "          const docLink = document.createElement('div');\n",
              "          docLink.innerHTML = docLinkHtml;\n",
              "          element.appendChild(docLink);\n",
              "        }\n",
              "      </script>\n",
              "    </div>\n",
              "  </div>\n",
              "  "
            ]
          },
          "metadata": {},
          "execution_count": 30
        }
      ]
    },
    {
      "cell_type": "code",
      "source": [
        "#4\n",
        "print(\"4. El siguiente código que será explicado por la profesora presenta una función que tiene como objetivo buscar un dato dentro del data frame y devolver la ubicación de los elementos que coinciden con esa búsqueda.\\n\")\n",
        "def getIndexes(dfObj,value):\n",
        "  listOfPos=[]\n",
        "  result = dfObj.isin([value])\n",
        "  seriesObj=result.any()\n",
        "  columnNames=list(seriesObj[seriesObj==True].index)\n",
        "  \n",
        "  for col in columnNames:\n",
        "    rows=list(result[col][result[col]==True].index)\n",
        "\n",
        "    for row in rows:\n",
        "      listOfPos.append((row,col))\n",
        "\n",
        "  return listOfPos\n",
        "\n",
        "#5\n",
        "print(\"5. ¿Cómo se puede llamar a esta función?\")\n",
        "print(\"getPos,a razon de que esto es lo que retorna\\n\")\n",
        "#6\n",
        "print(\"6. Los parámetros son los que puede cambiar. Haga uso de las siguientes instrucciones para conocer la información que se recibe al ingresar la letra 'A' de la sección.\\n\")\n",
        "listOfPositions=getIndexes(df,'A')\n",
        "print('Index position of 22 in Dataframe: ')\n",
        "\n",
        "for i in range(len(listOfPositions)):\n",
        "  print(listOfPositions[i])\n",
        "\n",
        "#7\n",
        "print(\"\\n7. Pruebe otros valores a buscar, para ello puede sustituir a letra por otro elemento a buscar puede hacer uso de los valores de ciudad, nombre y edad.\")\n",
        "print(\"\\nCuidad\\n\")\n",
        "listOfPositions=getIndexes(df,'Heredia')\n",
        "for i in range(len(listOfPositions)):\n",
        "  print(listOfPositions[i])\n",
        "print(\"\\nNombre\\n\")\n",
        "listOfPositions=getIndexes(df,'Esteban')\n",
        "for i in range(len(listOfPositions)):\n",
        "  print(listOfPositions[i])\n",
        "\n",
        "print(\"\\nEdad\\n\")\n",
        "listOfPositions=getIndexes(df,22)\n",
        "for i in range(len(listOfPositions)):\n",
        "  print(listOfPositions[i])\n",
        "\n",
        "print(\"\\n8. RETO: Proceda aplicar en equipos un elemento a buscar dentro de su dataframe del proyecto\")\n",
        "print(\"Se decidio que el elemento a buscar sería el mes en el que se dio una mayor actividad de transacciones\")\n",
        "print(\"\\n9. Coloque el nombre de sus compañeros en el equipo de Python.\\nJose Andres Rojas Rojas\\nTreicy Leon\\nAlejandro Barrantes Castro\\nAndres Cabezas Vizcaino\")"
      ],
      "metadata": {
        "colab": {
          "base_uri": "https://localhost:8080/"
        },
        "id": "hBTHRPgmkWUE",
        "outputId": "20b804b1-e4fc-419e-8073-ab9e76bb74cf"
      },
      "execution_count": null,
      "outputs": [
        {
          "output_type": "stream",
          "name": "stdout",
          "text": [
            "4. El siguiente código que será explicado por la profesora presenta una función que tiene como objetivo buscar un dato dentro del data frame y devolver la ubicación de los elementos que coinciden con esa búsqueda.\n",
            "\n",
            "5. ¿Cómo se puede llamar a esta función?\n",
            "getPos,a razon de que esto es lo que retorna\n",
            "\n",
            "6. Los parámetros son los que puede cambiar. Haga uso de las siguientes instrucciones para conocer la información que se recibe al ingresar la letra 'A' de la sección.\n",
            "\n",
            "Index position of 22 in Dataframe: \n",
            "(0, 'Seccion')\n",
            "(2, 'Seccion')\n",
            "(3, 'Seccion')\n",
            "\n",
            "7. Pruebe otros valores a buscar, para ello puede sustituir a letra por otro elemento a buscar puede hacer uso de los valores de ciudad, nombre y edad.\n",
            "\n",
            "Cuidad\n",
            "\n",
            "(1, 'Ciudad')\n",
            "(4, 'Ciudad')\n",
            "\n",
            "Nombre\n",
            "\n",
            "(1, 'Nombre')\n",
            "\n",
            "Edad\n",
            "\n",
            "(1, 'Edad')\n",
            "(2, 'Edad')\n",
            "(3, 'Edad')\n",
            "\n",
            "8. RETO: Proceda aplicar en equipos un elemento a buscar dentro de su dataframe del proyecto\n",
            "Se decidio que el elemento a buscar sería el mes en el que se dio una mayor actividad de transacciones\n",
            "\n",
            "9. Coloque el nombre de sus compañeros en el equipo de Python.\n",
            "Jose Andres Rojas Rojas\n",
            "Treicy Leon\n",
            "Alejandro Barrantes Castro\n",
            "Andres Cabezas Vizcaino\n"
          ]
        }
      ]
    }
  ]
}
