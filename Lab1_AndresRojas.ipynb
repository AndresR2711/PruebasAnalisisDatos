{
  "nbformat": 4,
  "nbformat_minor": 0,
  "metadata": {
    "colab": {
      "provenance": [],
      "authorship_tag": "ABX9TyPw9mXzM3fpaqjr9wYubsav",
      "include_colab_link": true
    },
    "kernelspec": {
      "name": "python3",
      "display_name": "Python 3"
    },
    "language_info": {
      "name": "python"
    }
  },
  "cells": [
    {
      "cell_type": "markdown",
      "metadata": {
        "id": "view-in-github",
        "colab_type": "text"
      },
      "source": [
        "<a href=\"https://colab.research.google.com/github/AndresR2711/PruebasAnalisisDatos/blob/main/Lab1_AndresRojas.ipynb\" target=\"_parent\"><img src=\"https://colab.research.google.com/assets/colab-badge.svg\" alt=\"Open In Colab\"/></a>"
      ]
    },
    {
      "cell_type": "code",
      "execution_count": null,
      "metadata": {
        "colab": {
          "base_uri": "https://localhost:8080/"
        },
        "id": "RY2UKJgtH3rV",
        "outputId": "7ca90acb-fad4-4137-a00c-f053dfad0964"
      },
      "outputs": [
        {
          "output_type": "stream",
          "name": "stdout",
          "text": [
            "Ejercicio#1 Calcular distancia\n",
            "Ingrese la velocidad y tiempo de la unida movil\n",
            "Ingrese la velocidad:5\n",
            "Ingrese el tiempo:3\n",
            "La distancia es15.0\n"
          ]
        }
      ],
      "source": [
        "print(\"Ejercicio#1 Calcular distancia\")\n",
        "print(\"Ingrese la velocidad y tiempo de la unida movil\")\n",
        "v=float(input(\"Ingrese la velocidad:\"))\n",
        "t=float(input(\"Ingrese el tiempo:\"))\n",
        "print(\"La distancia es: \"+str(v*t))"
      ]
    },
    {
      "cell_type": "code",
      "source": [
        "print(\"Ejercicio #2 Promedio Notas\")\n",
        "nota1 = float(input(\"Ingrese la nota 1: \"))\n",
        "nota2 = int(input(\"Ingrese la nota 2: \"))\n",
        "nota3 = int(input(\"Ingrese la nota 3: \"))\n",
        "\n",
        "print(\"El promedio de las notas es: \" +str((nota1 + nota2 + nota3) / 3))\n"
      ],
      "metadata": {
        "colab": {
          "base_uri": "https://localhost:8080/"
        },
        "id": "EgwUcpsDIQBy",
        "outputId": "c114f14f-ff5f-414b-83d6-8c379bad1a67"
      },
      "execution_count": null,
      "outputs": [
        {
          "output_type": "stream",
          "name": "stdout",
          "text": [
            "Ejercicio #2 Promedio Notas\n",
            "Ingrese la nota 1: 3\n",
            "Ingrese la nota 2: 4\n",
            "Ingrese la nota 3: 5\n",
            "El promedio de las notas es: 4.0\n"
          ]
        }
      ]
    },
    {
      "cell_type": "code",
      "source": [
        "#Se necesita elaborar un algoritmo que solicite el numero de respuestas correctas, incorrectas y en blanco,\n",
        "#correspondientes a postulantes, y muestre su puntaje final considerando que por cada respuesta correcta \n",
        "#tendrá  3 puntos, respuestas incorrectas tendrá -1 y respuestas en blanco tendrá 0\n"
      ],
      "metadata": {
        "id": "xhvietRxJuQC"
      },
      "execution_count": null,
      "outputs": []
    },
    {
      "cell_type": "code",
      "source": [
        "correctas = int(input(\"Ingrese la cantidad de respuestas correctas: \"))\n",
        "incorrectas = int(input(\"Ingrese la cantidad de respuestas incorrectas: \"))\n",
        "enBlanco = int(input(\"Ingrese la cantidad de respuestas en blanco: \"))\n",
        "\n",
        "puntajeFinal = (correctas * 3) - incorrectas\n",
        "\n",
        "print(\"El puntaje final es:\", puntajeFinal)\n"
      ],
      "metadata": {
        "colab": {
          "base_uri": "https://localhost:8080/"
        },
        "id": "WnlN2wX9MH20",
        "outputId": "2b5622d6-336e-4537-ed20-660502fb22d1"
      },
      "execution_count": null,
      "outputs": [
        {
          "output_type": "stream",
          "name": "stdout",
          "text": [
            "Ingrese la cantidad de respuestas correctas: 2\n",
            "Ingrese la cantidad de respuestas incorrectas: 2\n",
            "Ingrese la cantidad de respuestas en blanco: 2\n",
            "El puntaje final es: 4\n"
          ]
        }
      ]
    }
  ]
}